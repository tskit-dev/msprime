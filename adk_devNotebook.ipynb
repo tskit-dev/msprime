{
 "cells": [
  {
   "cell_type": "code",
   "execution_count": 35,
   "metadata": {},
   "outputs": [
    {
     "name": "stdout",
     "output_type": "stream",
     "text": [
      "The autoreload extension is already loaded. To reload it, use:\n",
      "  %reload_ext autoreload\n"
     ]
    }
   ],
   "source": [
    "%load_ext autoreload\n",
    "%autoreload 2\n",
    "import msprime\n",
    "import algorithms\n",
    "import argparse\n",
    "import random\n",
    "from algorithms import *\n",
    "import numpy as np"
   ]
  },
  {
   "cell_type": "code",
   "execution_count": 64,
   "metadata": {},
   "outputs": [
    {
     "data": {
      "text/plain": [
       "Namespace(bottleneck=[], migration_matrix_element_change=[], migration_rate=1, model='single_sweep', num_loci=100, num_populations=1, num_replicates=1000, output_file='foo', population_growth_rate_change=[], population_growth_rates=None, population_size_change=[[0.01, 0.0, 0.1]], population_sizes=None, random_seed=1, recombination_rate=0.1, sample_configuration=None, sample_size=6, sweep=[[0.0, 1e-05, 0.999, 1000.0]], verbose=False)"
      ]
     },
     "execution_count": 64,
     "metadata": {},
     "output_type": "execute_result"
    }
   ],
   "source": [
    "parser = argparse.ArgumentParser()\n",
    "add_simulator_arguments(parser)\n",
    "args = parser.parse_args([\"6\",\"foo\",\"-r\",\"0.1\",\"--sweep\",\"0.0\",\"0.00001\",\"0.999\",\"1000\", \"--model\", \"single_sweep\",\n",
    "                         \"--population-size-change\", \"0.01\",\"0\",\"0.1\"])\n",
    "#args = parser.parse_args([\"6\",\"foo\",\"-r\",\"0.1\"])\n",
    "\n",
    "args"
   ]
  },
  {
   "cell_type": "code",
   "execution_count": 65,
   "metadata": {
    "collapsed": true
   },
   "outputs": [],
   "source": [
    "n = args.sample_size\n",
    "m = args.num_loci\n",
    "rho = args.recombination_rate\n",
    "num_populations = args.num_populations\n",
    "migration_matrix = [\n",
    "    [args.migration_rate * int(j != k) for j in range(num_populations)]\n",
    "    for k in range(num_populations)]\n",
    "sample_configuration = [0 for j in range(num_populations)]\n",
    "population_growth_rates = [0 for j in range(num_populations)]\n",
    "population_sizes = [1 for j in range(num_populations)]\n",
    "sample_configuration[0] = n\n",
    "if args.sample_configuration is not None:\n",
    "    sample_configuration = args.sample_configuration\n",
    "if args.population_growth_rates is not None:\n",
    "    population_growth_rates = args.population_growth_rates\n",
    "if args.population_sizes is not None:\n",
    "    population_sizes = args.population_sizes\n",
    "if args.sweep is not None:\n",
    "    labelNumber = 2\n",
    "else:\n",
    "    labelNumber = 1\n",
    "\n",
    "random.seed(args.random_seed)\n",
    "s = Simulator(\n",
    "    n, m, rho, migration_matrix,\n",
    "    sample_configuration, population_growth_rates,\n",
    "    population_sizes, args.population_growth_rate_change,\n",
    "    args.population_size_change,\n",
    "    args.migration_matrix_element_change,\n",
    "    args.bottleneck, args.sweep, args.model, 10000, labelNumber)"
   ]
  },
  {
   "cell_type": "code",
   "execution_count": 66,
   "metadata": {},
   "outputs": [
    {
     "name": "stdout",
     "output_type": "stream",
     "text": [
      "Changing pop size to  0.1\n"
     ]
    },
    {
     "ename": "TypeError",
     "evalue": "NoneType object argument after * must be an iterable, not NoneType",
     "output_type": "error",
     "traceback": [
      "\u001b[0;31m---------------------------------------------------------------------------\u001b[0m",
      "\u001b[0;31mTypeError\u001b[0m                                 Traceback (most recent call last)",
      "\u001b[0;32m<ipython-input-66-f92cdca854b7>\u001b[0m in \u001b[0;36m<module>\u001b[0;34m()\u001b[0m\n\u001b[1;32m      1\u001b[0m \u001b[0;31m#s.verify()\u001b[0m\u001b[0;34m\u001b[0m\u001b[0;34m\u001b[0m\u001b[0m\n\u001b[0;32m----> 2\u001b[0;31m \u001b[0mts\u001b[0m \u001b[0;34m=\u001b[0m \u001b[0ms\u001b[0m\u001b[0;34m.\u001b[0m\u001b[0msimulate\u001b[0m\u001b[0;34m(\u001b[0m\u001b[0;34m)\u001b[0m\u001b[0;34m\u001b[0m\u001b[0m\n\u001b[0m",
      "\u001b[0;32m~/kernlab_github/msprime/algorithms.py\u001b[0m in \u001b[0;36msimulate\u001b[0;34m(self, model)\u001b[0m\n\u001b[1;32m    473\u001b[0m             \u001b[0mself\u001b[0m\u001b[0;34m.\u001b[0m\u001b[0mdtwf_simulate\u001b[0m\u001b[0;34m(\u001b[0m\u001b[0;34m)\u001b[0m\u001b[0;34m\u001b[0m\u001b[0m\n\u001b[1;32m    474\u001b[0m         \u001b[0;32melif\u001b[0m \u001b[0mself\u001b[0m\u001b[0;34m.\u001b[0m\u001b[0mmodel\u001b[0m \u001b[0;34m==\u001b[0m \u001b[0;34m'single_sweep'\u001b[0m\u001b[0;34m:\u001b[0m\u001b[0;34m\u001b[0m\u001b[0m\n\u001b[0;32m--> 475\u001b[0;31m             \u001b[0mself\u001b[0m\u001b[0;34m.\u001b[0m\u001b[0msingle_sweep_simulate\u001b[0m\u001b[0;34m(\u001b[0m\u001b[0;34m)\u001b[0m\u001b[0;34m\u001b[0m\u001b[0m\n\u001b[0m\u001b[1;32m    476\u001b[0m         \u001b[0;32melse\u001b[0m\u001b[0;34m:\u001b[0m\u001b[0;34m\u001b[0m\u001b[0m\n\u001b[1;32m    477\u001b[0m             \u001b[0mprint\u001b[0m\u001b[0;34m(\u001b[0m\u001b[0;34m\"Error: bad model specification -\"\u001b[0m\u001b[0;34m,\u001b[0m \u001b[0mself\u001b[0m\u001b[0;34m.\u001b[0m\u001b[0mmodel\u001b[0m\u001b[0;34m)\u001b[0m\u001b[0;34m\u001b[0m\u001b[0m\n",
      "\u001b[0;32m~/kernlab_github/msprime/algorithms.py\u001b[0m in \u001b[0;36msingle_sweep_simulate\u001b[0;34m(self)\u001b[0m\n\u001b[1;32m    612\u001b[0m             \u001b[0mt\u001b[0m\u001b[0;34m,\u001b[0m \u001b[0mfunc\u001b[0m\u001b[0;34m,\u001b[0m \u001b[0margs\u001b[0m \u001b[0;34m=\u001b[0m \u001b[0mself\u001b[0m\u001b[0;34m.\u001b[0m\u001b[0mmodifier_events\u001b[0m\u001b[0;34m.\u001b[0m\u001b[0mpop\u001b[0m\u001b[0;34m(\u001b[0m\u001b[0;36m0\u001b[0m\u001b[0;34m)\u001b[0m\u001b[0;34m\u001b[0m\u001b[0m\n\u001b[1;32m    613\u001b[0m             \u001b[0mself\u001b[0m\u001b[0;34m.\u001b[0m\u001b[0mt\u001b[0m \u001b[0;34m=\u001b[0m \u001b[0mt\u001b[0m\u001b[0;34m\u001b[0m\u001b[0m\n\u001b[0;32m--> 614\u001b[0;31m             \u001b[0mfunc\u001b[0m\u001b[0;34m(\u001b[0m\u001b[0;34m*\u001b[0m\u001b[0margs\u001b[0m\u001b[0;34m)\u001b[0m\u001b[0;34m\u001b[0m\u001b[0m\n\u001b[0m\u001b[1;32m    615\u001b[0m             \u001b[0mnext_time\u001b[0m \u001b[0;34m=\u001b[0m \u001b[0mself\u001b[0m\u001b[0;34m.\u001b[0m\u001b[0mmodifier_events\u001b[0m\u001b[0;34m[\u001b[0m\u001b[0;36m0\u001b[0m\u001b[0;34m]\u001b[0m\u001b[0;34m[\u001b[0m\u001b[0;36m0\u001b[0m\u001b[0;34m]\u001b[0m\u001b[0;34m\u001b[0m\u001b[0m\n\u001b[1;32m    616\u001b[0m             \u001b[0mself\u001b[0m\u001b[0;34m.\u001b[0m\u001b[0msweep_phase_simulate_until\u001b[0m\u001b[0;34m(\u001b[0m\u001b[0mnext_time\u001b[0m\u001b[0;34m)\u001b[0m\u001b[0;34m\u001b[0m\u001b[0m\n",
      "\u001b[0;31mTypeError\u001b[0m: NoneType object argument after * must be an iterable, not NoneType"
     ]
    }
   ],
   "source": [
    "#s.verify()\n",
    "ts = s.simulate()"
   ]
  },
  {
   "cell_type": "code",
   "execution_count": 91,
   "metadata": {
    "collapsed": true
   },
   "outputs": [],
   "source": [
    "reps = 1\n",
    "tt = np.zeros(reps)\n",
    "for i in range(reps):\n",
    "    random.seed(200)\n",
    "    s = Simulator(\n",
    "        n, m, rho, migration_matrix,\n",
    "        sample_configuration, population_growth_rates,\n",
    "        population_sizes, args.population_growth_rate_change,\n",
    "        args.population_size_change,\n",
    "        args.migration_matrix_element_change,\n",
    "        args.bottleneck, args.sweep, args.model, 10000, labelNumber)\n",
    "    ts = s.simulate()\n",
    "    tt[i] = ts.first().total_branch_length"
   ]
  },
  {
   "cell_type": "code",
   "execution_count": 24,
   "metadata": {},
   "outputs": [
    {
     "data": {
      "text/plain": [
       "[True, False]"
      ]
     },
     "execution_count": 24,
     "metadata": {},
     "output_type": "execute_result"
    }
   ],
   "source": [
    "([s.sweep_event in x for x in s.modifier_events])\n",
    "    "
   ]
  },
  {
   "cell_type": "code",
   "execution_count": 60,
   "metadata": {},
   "outputs": [
    {
     "name": "stdout",
     "output_type": "stream",
     "text": [
      "     ┃       \n",
      "  ┏━━┻━━┓    \n",
      "  ┃     ┃    \n",
      "  ┃   ┏━┻┓   \n",
      "  ┃   ┃  ┃   \n",
      "┏━┻┓  ┃  ┃   \n",
      "┃  ┃  ┃  ┃   \n",
      "┃  ┃  ┃ ┏┻┓  \n",
      "┃  ┃  ┃ ┃ ┃  \n",
      "┃ ┏┻┓ ┃ ┃ ┃  \n",
      "┃ ┃ ┃ ┃ ┃ ┃  \n",
      "\n"
     ]
    }
   ],
   "source": [
    "print(ts.first().draw(format=\"unicode\",height=700,node_labels={}))"
   ]
  },
  {
   "cell_type": "code",
   "execution_count": 8,
   "metadata": {
    "collapsed": true
   },
   "outputs": [],
   "source": [
    "a = 2\n",
    "b = 3\n",
    "Pops = [[Population(aPop) for aPop in range(b)] for x in range(a)]"
   ]
  },
  {
   "cell_type": "code",
   "execution_count": 9,
   "metadata": {},
   "outputs": [
    {
     "data": {
      "text/plain": [
       "[[<algorithms.Population at 0x112ace320>,\n",
       "  <algorithms.Population at 0x112ace518>,\n",
       "  <algorithms.Population at 0x112ace748>],\n",
       " [<algorithms.Population at 0x112ace278>,\n",
       "  <algorithms.Population at 0x112ace400>,\n",
       "  <algorithms.Population at 0x112ace5f8>]]"
      ]
     },
     "execution_count": 9,
     "metadata": {},
     "output_type": "execute_result"
    }
   ],
   "source": [
    "Pops"
   ]
  },
  {
   "cell_type": "code",
   "execution_count": 11,
   "metadata": {},
   "outputs": [
    {
     "data": {
      "text/plain": [
       "3"
      ]
     },
     "execution_count": 11,
     "metadata": {},
     "output_type": "execute_result"
    }
   ],
   "source": [
    "len(Pops[0])\n"
   ]
  },
  {
   "cell_type": "code",
   "execution_count": 28,
   "metadata": {},
   "outputs": [
    {
     "ename": "TypeError",
     "evalue": "unsupported operand type(s) for +: 'int' and 'list'",
     "output_type": "error",
     "traceback": [
      "\u001b[0;31m-----------------------------------------------------------\u001b[0m",
      "\u001b[0;31mTypeError\u001b[0m                 Traceback (most recent call last)",
      "\u001b[0;32m<ipython-input-28-1617ad68ffb3>\u001b[0m in \u001b[0;36m<module>\u001b[0;34m()\u001b[0m\n\u001b[0;32m----> 1\u001b[0;31m \u001b[0msum\u001b[0m\u001b[0;34m(\u001b[0m\u001b[0;34m[\u001b[0m\u001b[0mpop\u001b[0m\u001b[0;34m.\u001b[0m\u001b[0mget_num_ancestors\u001b[0m\u001b[0;34m(\u001b[0m\u001b[0;34m)\u001b[0m \u001b[0;32mfor\u001b[0m \u001b[0mpop\u001b[0m \u001b[0;32min\u001b[0m \u001b[0mx\u001b[0m\u001b[0;34m]\u001b[0m \u001b[0;32mfor\u001b[0m \u001b[0mx\u001b[0m \u001b[0;32min\u001b[0m \u001b[0mPops\u001b[0m\u001b[0;34m)\u001b[0m\u001b[0;34m\u001b[0m\u001b[0m\n\u001b[0m",
      "\u001b[0;31mTypeError\u001b[0m: unsupported operand type(s) for +: 'int' and 'list'"
     ]
    }
   ],
   "source": [
    "sum([pop.get_num_ancestors() for pop in x] for x in Pops)"
   ]
  },
  {
   "cell_type": "code",
   "execution_count": 51,
   "metadata": {},
   "outputs": [
    {
     "name": "stdout",
     "output_type": "stream",
     "text": [
      "0\n",
      "<algorithms.Population object at 0x112ace320>\n",
      "1\n",
      "<algorithms.Population object at 0x112ace518>\n",
      "2\n",
      "<algorithms.Population object at 0x112ace748>\n"
     ]
    }
   ],
   "source": [
    "for i, n in enumerate(Pops[0]):\n",
    "    print(i)\n",
    "    print(n)"
   ]
  },
  {
   "cell_type": "code",
   "execution_count": null,
   "metadata": {
    "collapsed": true
   },
   "outputs": [],
   "source": [
    "       x = self.P[0][j].remove(index)\n",
    "        self.P[0][k].add(x)"
   ]
  }
 ],
 "metadata": {
  "kernelspec": {
   "display_name": "Python 3",
   "language": "python",
   "name": "python3"
  },
  "language_info": {
   "codemirror_mode": {
    "name": "ipython",
    "version": 3
   },
   "file_extension": ".py",
   "mimetype": "text/x-python",
   "name": "python",
   "nbconvert_exporter": "python",
   "pygments_lexer": "ipython3",
   "version": "3.6.4"
  }
 },
 "nbformat": 4,
 "nbformat_minor": 2
}
